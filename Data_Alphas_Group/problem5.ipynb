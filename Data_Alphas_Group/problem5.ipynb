{
 "cells": [
  {
   "cell_type": "markdown",
   "metadata": {},
   "source": [
    "Which merchant has the highest total purchase value?\n"
   ]
  },
  {
   "cell_type": "code",
   "execution_count": 3,
   "metadata": {},
   "outputs": [
    {
     "data": {
      "text/html": [
       "<div>\n",
       "<style scoped>\n",
       "    .dataframe tbody tr th:only-of-type {\n",
       "        vertical-align: middle;\n",
       "    }\n",
       "\n",
       "    .dataframe tbody tr th {\n",
       "        vertical-align: top;\n",
       "    }\n",
       "\n",
       "    .dataframe thead th {\n",
       "        text-align: right;\n",
       "    }\n",
       "</style>\n",
       "<table border=\"1\" class=\"dataframe\">\n",
       "  <thead>\n",
       "    <tr style=\"text-align: right;\">\n",
       "      <th></th>\n",
       "      <th>MERCHANT_CATEGORIZED_AT</th>\n",
       "      <th>HOURS</th>\n",
       "      <th>MONTHS</th>\n",
       "      <th>MINUTES</th>\n",
       "      <th>YEAR</th>\n",
       "      <th>MERCHANT_NAME</th>\n",
       "      <th>MERCHANT_CATEGORIZED_AS</th>\n",
       "      <th>PURCHASE_VALUE</th>\n",
       "      <th>PURCHASED_AT</th>\n",
       "      <th>IS_PURCHASE_PAID_VIA_MPESA_SEND_MONEY</th>\n",
       "      <th>USER_AGE</th>\n",
       "      <th>USER_GENDER</th>\n",
       "      <th>USER_HOUSEHOLD</th>\n",
       "      <th>USER_INCOME</th>\n",
       "      <th>USER_ID</th>\n",
       "      <th>Transaction_ID</th>\n",
       "    </tr>\n",
       "  </thead>\n",
       "  <tbody>\n",
       "    <tr>\n",
       "      <th>0</th>\n",
       "      <td>2022-05-04 10:25:50.588042+00</td>\n",
       "      <td>10</td>\n",
       "      <td>5</td>\n",
       "      <td>25</td>\n",
       "      <td>2022</td>\n",
       "      <td>UONSDA CHURCH  MOGERE MWAYO TITHE</td>\n",
       "      <td>Rent / Mortgage</td>\n",
       "      <td>1700</td>\n",
       "      <td>2022-05-04 13:56:00+00</td>\n",
       "      <td>False</td>\n",
       "      <td>NaN</td>\n",
       "      <td>Male</td>\n",
       "      <td>3</td>\n",
       "      <td>10000</td>\n",
       "      <td>ID_ZX4DCF4K</td>\n",
       "      <td>ID_04mk78fa</td>\n",
       "    </tr>\n",
       "    <tr>\n",
       "      <th>1</th>\n",
       "      <td>2021-10-25 16:18:38.586837+00</td>\n",
       "      <td>16</td>\n",
       "      <td>10</td>\n",
       "      <td>18</td>\n",
       "      <td>2021</td>\n",
       "      <td>PARK N GO</td>\n",
       "      <td>Transport &amp; Fuel</td>\n",
       "      <td>100</td>\n",
       "      <td>2021-10-24 14:12:00+00</td>\n",
       "      <td>False</td>\n",
       "      <td>25.0</td>\n",
       "      <td>Female</td>\n",
       "      <td>4</td>\n",
       "      <td>90000</td>\n",
       "      <td>ID_U9WZMGJZ</td>\n",
       "      <td>ID_04xkfb07</td>\n",
       "    </tr>\n",
       "    <tr>\n",
       "      <th>2</th>\n",
       "      <td>2022-05-20 14:17:30.917297+00</td>\n",
       "      <td>14</td>\n",
       "      <td>5</td>\n",
       "      <td>17</td>\n",
       "      <td>2022</td>\n",
       "      <td>SAFARICOM OFFERS  TUNUKIWA</td>\n",
       "      <td>Data &amp; WiFi</td>\n",
       "      <td>20</td>\n",
       "      <td>2022-05-27 12:46:00+00</td>\n",
       "      <td>False</td>\n",
       "      <td>NaN</td>\n",
       "      <td>Male</td>\n",
       "      <td>3</td>\n",
       "      <td>10000</td>\n",
       "      <td>ID_ZX4DCF4K</td>\n",
       "      <td>ID_051urwuw</td>\n",
       "    </tr>\n",
       "    <tr>\n",
       "      <th>3</th>\n",
       "      <td>2022-04-12 15:59:14.139347+00</td>\n",
       "      <td>15</td>\n",
       "      <td>4</td>\n",
       "      <td>59</td>\n",
       "      <td>2022</td>\n",
       "      <td>ZILLIONS CREDIT LIMITED</td>\n",
       "      <td>Loan Repayment</td>\n",
       "      <td>3800</td>\n",
       "      <td>2022-02-07 12:16:00+00</td>\n",
       "      <td>False</td>\n",
       "      <td>NaN</td>\n",
       "      <td>Male</td>\n",
       "      <td>5</td>\n",
       "      <td>252000</td>\n",
       "      <td>ID_3JA0MAFB</td>\n",
       "      <td>ID_0e1om7rz</td>\n",
       "    </tr>\n",
       "    <tr>\n",
       "      <th>4</th>\n",
       "      <td>2022-05-04 10:24:26.709045+00</td>\n",
       "      <td>10</td>\n",
       "      <td>5</td>\n",
       "      <td>24</td>\n",
       "      <td>2022</td>\n",
       "      <td>MICHAEL MUSEMBI</td>\n",
       "      <td>Bills &amp; Fees</td>\n",
       "      <td>60</td>\n",
       "      <td>2022-05-04 15:28:00+00</td>\n",
       "      <td>False</td>\n",
       "      <td>NaN</td>\n",
       "      <td>Male</td>\n",
       "      <td>3</td>\n",
       "      <td>10000</td>\n",
       "      <td>ID_ZX4DCF4K</td>\n",
       "      <td>ID_0kfcoawb</td>\n",
       "    </tr>\n",
       "  </tbody>\n",
       "</table>\n",
       "</div>"
      ],
      "text/plain": [
       "         MERCHANT_CATEGORIZED_AT  HOURS  MONTHS  MINUTES  YEAR  \\\n",
       "0  2022-05-04 10:25:50.588042+00     10       5       25  2022   \n",
       "1  2021-10-25 16:18:38.586837+00     16      10       18  2021   \n",
       "2  2022-05-20 14:17:30.917297+00     14       5       17  2022   \n",
       "3  2022-04-12 15:59:14.139347+00     15       4       59  2022   \n",
       "4  2022-05-04 10:24:26.709045+00     10       5       24  2022   \n",
       "\n",
       "                       MERCHANT_NAME MERCHANT_CATEGORIZED_AS  PURCHASE_VALUE  \\\n",
       "0  UONSDA CHURCH  MOGERE MWAYO TITHE         Rent / Mortgage            1700   \n",
       "1                          PARK N GO        Transport & Fuel             100   \n",
       "2         SAFARICOM OFFERS  TUNUKIWA             Data & WiFi              20   \n",
       "3            ZILLIONS CREDIT LIMITED          Loan Repayment            3800   \n",
       "4                    MICHAEL MUSEMBI            Bills & Fees              60   \n",
       "\n",
       "             PURCHASED_AT  IS_PURCHASE_PAID_VIA_MPESA_SEND_MONEY  USER_AGE  \\\n",
       "0  2022-05-04 13:56:00+00                                  False       NaN   \n",
       "1  2021-10-24 14:12:00+00                                  False      25.0   \n",
       "2  2022-05-27 12:46:00+00                                  False       NaN   \n",
       "3  2022-02-07 12:16:00+00                                  False       NaN   \n",
       "4  2022-05-04 15:28:00+00                                  False       NaN   \n",
       "\n",
       "  USER_GENDER  USER_HOUSEHOLD  USER_INCOME      USER_ID Transaction_ID  \n",
       "0        Male               3        10000  ID_ZX4DCF4K    ID_04mk78fa  \n",
       "1      Female               4        90000  ID_U9WZMGJZ    ID_04xkfb07  \n",
       "2        Male               3        10000  ID_ZX4DCF4K    ID_051urwuw  \n",
       "3        Male               5       252000  ID_3JA0MAFB    ID_0e1om7rz  \n",
       "4        Male               3        10000  ID_ZX4DCF4K    ID_0kfcoawb  "
      ]
     },
     "execution_count": 3,
     "metadata": {},
     "output_type": "execute_result"
    }
   ],
   "source": [
    "#IMPORT IMPORTANT LIBRARIES\n",
    "\n",
    "import pandas as pd\n",
    "import matplotlib.pyplot as plt\n",
    "\n",
    "\n",
    "#IMPORT THE DATAFRAME\n",
    "\n",
    "money_df = pd.read_csv(\"Money.csv\")\n",
    "\n",
    "money_df.head()\n"
   ]
  },
  {
   "cell_type": "code",
   "execution_count": 6,
   "metadata": {},
   "outputs": [
    {
     "data": {
      "text/plain": [
       "Index(['MERCHANT_CATEGORIZED_AT', 'HOURS', 'MONTHS', 'MINUTES', 'YEAR',\n",
       "       'MERCHANT_NAME', 'MERCHANT_CATEGORIZED_AS', 'PURCHASE_VALUE',\n",
       "       'PURCHASED_AT', 'IS_PURCHASE_PAID_VIA_MPESA_SEND_MONEY', 'USER_AGE',\n",
       "       'USER_GENDER', 'USER_HOUSEHOLD', 'USER_INCOME', 'USER_ID',\n",
       "       'Transaction_ID'],\n",
       "      dtype='object')"
      ]
     },
     "execution_count": 6,
     "metadata": {},
     "output_type": "execute_result"
    }
   ],
   "source": [
    "money_df.columns"
   ]
  },
  {
   "cell_type": "code",
   "execution_count": 48,
   "metadata": {},
   "outputs": [
    {
     "data": {
      "text/plain": [
       "MERCHANT_NAME\n",
       "AGGREY  MWANGALE                    1200\n",
       "ALBERT  MBOGO                       2110\n",
       "ALCHEMIIST - LEGEND BAR             2350\n",
       "APS ABC PARKING                       50\n",
       "ARNELLE OMONDI                       500\n",
       "                                    ... \n",
       "WANZA SEKETA                          20\n",
       "WINTA WOLDEGABRIEL +254795225400     300\n",
       "ZILLIONS CREDIT LIMITED             5800\n",
       "ZUKU  FOR                           6100\n",
       "ZURI MEDICAL FUND  EVAN OMONDI      3000\n",
       "Name: PURCHASE_VALUE, Length: 218, dtype: int64"
      ]
     },
     "execution_count": 48,
     "metadata": {},
     "output_type": "execute_result"
    }
   ],
   "source": [
    "#PULL THE DATA TO BE USED\n",
    "## We need to check which merchant has the highest purchase value\n",
    "\n",
    "#APPROACH: Use groupby() function to group MERCHANT_CATEGORIZED_AS by PURCHASE_VALUE\n",
    "## Use sum to get the total value of transactions made my each merchant\n",
    "\n",
    "grouped_df = money_df.groupby(\"MERCHANT_NAME\")[\"PURCHASE_VALUE\"].sum()\n",
    "\n",
    "#grouped_df  = pd.DataFrame(grouped_df)\n",
    "\n",
    "# Convert Series to DataFrame\n",
    "#df = grouped_df.to_frame().reset_index\n",
    "\n",
    "grouped_df\n"
   ]
  },
  {
   "cell_type": "code",
   "execution_count": 50,
   "metadata": {},
   "outputs": [
    {
     "data": {
      "text/plain": [
       "'M-SHWARI ACCOUNT'"
      ]
     },
     "execution_count": 50,
     "metadata": {},
     "output_type": "execute_result"
    }
   ],
   "source": [
    "#INDEX THE MAXIMUM VALUE\n",
    "\n",
    "# Find the index of the maximum purchase value\n",
    "max_merchant_name = grouped_df.idxmax()\n",
    "\n",
    "max_merchant_name\n"
   ]
  },
  {
   "cell_type": "code",
   "execution_count": 17,
   "metadata": {},
   "outputs": [
    {
     "data": {
      "text/html": [
       "<div>\n",
       "<style scoped>\n",
       "    .dataframe tbody tr th:only-of-type {\n",
       "        vertical-align: middle;\n",
       "    }\n",
       "\n",
       "    .dataframe tbody tr th {\n",
       "        vertical-align: top;\n",
       "    }\n",
       "\n",
       "    .dataframe thead th {\n",
       "        text-align: right;\n",
       "    }\n",
       "</style>\n",
       "<table border=\"1\" class=\"dataframe\">\n",
       "  <thead>\n",
       "    <tr style=\"text-align: right;\">\n",
       "      <th></th>\n",
       "      <th>PURCHASE_VALUE</th>\n",
       "    </tr>\n",
       "    <tr>\n",
       "      <th>MERCHANT_NAME</th>\n",
       "      <th></th>\n",
       "    </tr>\n",
       "  </thead>\n",
       "  <tbody>\n",
       "    <tr>\n",
       "      <th>AUDRINE  MAKAKA</th>\n",
       "      <td>150000</td>\n",
       "    </tr>\n",
       "    <tr>\n",
       "      <th>CARREFOUR SRT</th>\n",
       "      <td>84009</td>\n",
       "    </tr>\n",
       "    <tr>\n",
       "      <th>EQUITY PAYBILL ACCOUNT</th>\n",
       "      <td>80000</td>\n",
       "    </tr>\n",
       "    <tr>\n",
       "      <th>IM BANK C2B</th>\n",
       "      <td>75800</td>\n",
       "    </tr>\n",
       "    <tr>\n",
       "      <th>JERUSA A OTIENO</th>\n",
       "      <td>115000</td>\n",
       "    </tr>\n",
       "    <tr>\n",
       "      <th>JIMMIE WAIRIMU</th>\n",
       "      <td>80000</td>\n",
       "    </tr>\n",
       "    <tr>\n",
       "      <th>LIBERTY LIFE</th>\n",
       "      <td>66204</td>\n",
       "    </tr>\n",
       "    <tr>\n",
       "      <th>LIPA KARO KCB ACCOUNT</th>\n",
       "      <td>71000</td>\n",
       "    </tr>\n",
       "    <tr>\n",
       "      <th>M-SHWARI ACCOUNT</th>\n",
       "      <td>164150</td>\n",
       "    </tr>\n",
       "    <tr>\n",
       "      <th>NCBA BANK</th>\n",
       "      <td>130000</td>\n",
       "    </tr>\n",
       "  </tbody>\n",
       "</table>\n",
       "</div>"
      ],
      "text/plain": [
       "                        PURCHASE_VALUE\n",
       "MERCHANT_NAME                         \n",
       "AUDRINE  MAKAKA                 150000\n",
       "CARREFOUR SRT                    84009\n",
       "EQUITY PAYBILL ACCOUNT           80000\n",
       "IM BANK C2B                      75800\n",
       "JERUSA A OTIENO                 115000\n",
       "JIMMIE WAIRIMU                   80000\n",
       "LIBERTY LIFE                     66204\n",
       "LIPA KARO KCB ACCOUNT            71000\n",
       "M-SHWARI ACCOUNT                164150\n",
       "NCBA BANK                       130000"
      ]
     },
     "execution_count": 17,
     "metadata": {},
     "output_type": "execute_result"
    }
   ],
   "source": [
    "# Find which MERCHANT has Highest Purchase Value\n",
    "\n",
    "filtered_group_df = grouped_df[grouped_df[\"PURCHASE_VALUE\"]  > 0.4 * grouped_df[\"PURCHASE_VALUE\"].max()]\n",
    "filtered_group_df"
   ]
  },
  {
   "cell_type": "code",
   "execution_count": 34,
   "metadata": {},
   "outputs": [
    {
     "data": {
      "image/png": "[encoded data removed]",
      "text/plain": [
       "<Figure size 640x480 with 1 Axes>"
      ]
     },
     "metadata": {},
     "output_type": "display_data"
    }
   ],
   "source": [
    "# Plot a Bar Graph\n",
    "\n",
    "filtered_group_df.plot(kind = \"bar\", color = \"skyblue\")\n",
    "plt.ylabel(\"Total Purchase Value (R)\")\n",
    "plt.xlabel(\"Merchants\")\n",
    "plt.title(\"Total Purchase Value per Merchant\")\n",
    "plt.show()\n"
   ]
  }
 ],
 "metadata": {
  "kernelspec": {
   "display_name": "base",
   "language": "python",
   "name": "python3"
  },
  "language_info": {
   "codemirror_mode": {
    "name": "ipython",
    "version": 3
   },
   "file_extension": ".py",
   "mimetype": "text/x-python",
   "name": "python",
   "nbconvert_exporter": "python",
   "pygments_lexer": "ipython3",
   "version": "3.11.7"
  }
 },
 "nbformat": 4,
 "nbformat_minor": 2
}
