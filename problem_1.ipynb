{
 "cells": [
  {
   "cell_type": "markdown",
   "metadata": {},
   "source": [
    "PROBLEM 1: Compare the average money spend (PURCHASE_VALUE) between male and female (USER_GENDER) per MPESA Payment system usage (IS_PURCHASE_PAID_VIA_MPESA_SEND_MONEY)"
   ]
  },
  {
   "cell_type": "code",
   "execution_count": 1,
   "metadata": {},
   "outputs": [
    {
     "data": {
      "text/html": [
       "<div>\n",
       "<style scoped>\n",
       "    .dataframe tbody tr th:only-of-type {\n",
       "        vertical-align: middle;\n",
       "    }\n",
       "\n",
       "    .dataframe tbody tr th {\n",
       "        vertical-align: top;\n",
       "    }\n",
       "\n",
       "    .dataframe thead th {\n",
       "        text-align: right;\n",
       "    }\n",
       "</style>\n",
       "<table border=\"1\" class=\"dataframe\">\n",
       "  <thead>\n",
       "    <tr style=\"text-align: right;\">\n",
       "      <th></th>\n",
       "      <th>MERCHANT_CATEGORIZED_AT</th>\n",
       "      <th>HOURS</th>\n",
       "      <th>MONTHS</th>\n",
       "      <th>MINUTES</th>\n",
       "      <th>YEAR</th>\n",
       "      <th>MERCHANT_NAME</th>\n",
       "      <th>MERCHANT_CATEGORIZED_AS</th>\n",
       "      <th>PURCHASE_VALUE</th>\n",
       "      <th>PURCHASED_AT</th>\n",
       "      <th>IS_PURCHASE_PAID_VIA_MPESA_SEND_MONEY</th>\n",
       "      <th>USER_AGE</th>\n",
       "      <th>USER_GENDER</th>\n",
       "      <th>USER_HOUSEHOLD</th>\n",
       "      <th>USER_INCOME</th>\n",
       "      <th>USER_ID</th>\n",
       "      <th>Transaction_ID</th>\n",
       "    </tr>\n",
       "  </thead>\n",
       "  <tbody>\n",
       "    <tr>\n",
       "      <th>0</th>\n",
       "      <td>2022-05-04 10:25:50.588042+00</td>\n",
       "      <td>10</td>\n",
       "      <td>5</td>\n",
       "      <td>25</td>\n",
       "      <td>2022</td>\n",
       "      <td>UONSDA CHURCH  MOGERE MWAYO TITHE</td>\n",
       "      <td>Rent / Mortgage</td>\n",
       "      <td>1700</td>\n",
       "      <td>2022-05-04 13:56:00+00</td>\n",
       "      <td>False</td>\n",
       "      <td>NaN</td>\n",
       "      <td>Male</td>\n",
       "      <td>3</td>\n",
       "      <td>10000</td>\n",
       "      <td>ID_ZX4DCF4K</td>\n",
       "      <td>ID_04mk78fa</td>\n",
       "    </tr>\n",
       "    <tr>\n",
       "      <th>1</th>\n",
       "      <td>2021-10-25 16:18:38.586837+00</td>\n",
       "      <td>16</td>\n",
       "      <td>10</td>\n",
       "      <td>18</td>\n",
       "      <td>2021</td>\n",
       "      <td>PARK N GO</td>\n",
       "      <td>Transport &amp; Fuel</td>\n",
       "      <td>100</td>\n",
       "      <td>2021-10-24 14:12:00+00</td>\n",
       "      <td>False</td>\n",
       "      <td>25.0</td>\n",
       "      <td>Female</td>\n",
       "      <td>4</td>\n",
       "      <td>90000</td>\n",
       "      <td>ID_U9WZMGJZ</td>\n",
       "      <td>ID_04xkfb07</td>\n",
       "    </tr>\n",
       "    <tr>\n",
       "      <th>2</th>\n",
       "      <td>2022-05-20 14:17:30.917297+00</td>\n",
       "      <td>14</td>\n",
       "      <td>5</td>\n",
       "      <td>17</td>\n",
       "      <td>2022</td>\n",
       "      <td>SAFARICOM OFFERS  TUNUKIWA</td>\n",
       "      <td>Data &amp; WiFi</td>\n",
       "      <td>20</td>\n",
       "      <td>2022-05-27 12:46:00+00</td>\n",
       "      <td>False</td>\n",
       "      <td>NaN</td>\n",
       "      <td>Male</td>\n",
       "      <td>3</td>\n",
       "      <td>10000</td>\n",
       "      <td>ID_ZX4DCF4K</td>\n",
       "      <td>ID_051urwuw</td>\n",
       "    </tr>\n",
       "  </tbody>\n",
       "</table>\n",
       "</div>"
      ],
      "text/plain": [
       "         MERCHANT_CATEGORIZED_AT  HOURS  MONTHS  MINUTES  YEAR  \\\n",
       "0  2022-05-04 10:25:50.588042+00     10       5       25  2022   \n",
       "1  2021-10-25 16:18:38.586837+00     16      10       18  2021   \n",
       "2  2022-05-20 14:17:30.917297+00     14       5       17  2022   \n",
       "\n",
       "                       MERCHANT_NAME MERCHANT_CATEGORIZED_AS  PURCHASE_VALUE  \\\n",
       "0  UONSDA CHURCH  MOGERE MWAYO TITHE         Rent / Mortgage            1700   \n",
       "1                          PARK N GO        Transport & Fuel             100   \n",
       "2         SAFARICOM OFFERS  TUNUKIWA             Data & WiFi              20   \n",
       "\n",
       "             PURCHASED_AT  IS_PURCHASE_PAID_VIA_MPESA_SEND_MONEY  USER_AGE  \\\n",
       "0  2022-05-04 13:56:00+00                                  False       NaN   \n",
       "1  2021-10-24 14:12:00+00                                  False      25.0   \n",
       "2  2022-05-27 12:46:00+00                                  False       NaN   \n",
       "\n",
       "  USER_GENDER  USER_HOUSEHOLD  USER_INCOME      USER_ID Transaction_ID  \n",
       "0        Male               3        10000  ID_ZX4DCF4K    ID_04mk78fa  \n",
       "1      Female               4        90000  ID_U9WZMGJZ    ID_04xkfb07  \n",
       "2        Male               3        10000  ID_ZX4DCF4K    ID_051urwuw  "
      ]
     },
     "execution_count": 1,
     "metadata": {},
     "output_type": "execute_result"
    }
   ],
   "source": [
    "#IMPORT THE IMPORTANT LIBRARIES\n",
    "\n",
    "import pandas as pd\n",
    "import matplotlib.pyplot as plt\n",
    "\n",
    "#IMPORT THE DATA\n",
    "\n",
    "money_df= pd.read_csv(\"Money.csv\")\n",
    "\n",
    "money_df.head(3)"
   ]
  },
  {
   "cell_type": "code",
   "execution_count": 6,
   "metadata": {},
   "outputs": [
    {
     "data": {
      "text/plain": [
       "Index(['MERCHANT_CATEGORIZED_AT', 'HOURS', 'MONTHS', 'MINUTES', 'YEAR',\n",
       "       'MERCHANT_NAME', 'MERCHANT_CATEGORIZED_AS', 'PURCHASE_VALUE',\n",
       "       'PURCHASED_AT', 'IS_PURCHASE_PAID_VIA_MPESA_SEND_MONEY', 'USER_AGE',\n",
       "       'USER_GENDER', 'USER_HOUSEHOLD', 'USER_INCOME', 'USER_ID',\n",
       "       'Transaction_ID'],\n",
       "      dtype='object')"
      ]
     },
     "execution_count": 6,
     "metadata": {},
     "output_type": "execute_result"
    }
   ],
   "source": [
    "money_df.columns"
   ]
  },
  {
   "cell_type": "code",
   "execution_count": 15,
   "metadata": {},
   "outputs": [
    {
     "data": {
      "text/html": [
       "<div>\n",
       "<style scoped>\n",
       "    .dataframe tbody tr th:only-of-type {\n",
       "        vertical-align: middle;\n",
       "    }\n",
       "\n",
       "    .dataframe tbody tr th {\n",
       "        vertical-align: top;\n",
       "    }\n",
       "\n",
       "    .dataframe thead th {\n",
       "        text-align: right;\n",
       "    }\n",
       "</style>\n",
       "<table border=\"1\" class=\"dataframe\">\n",
       "  <thead>\n",
       "    <tr style=\"text-align: right;\">\n",
       "      <th></th>\n",
       "      <th>USER_GENDER</th>\n",
       "      <th>PURCHASE_VALUE</th>\n",
       "      <th>IS_PURCHASE_PAID_VIA_MPESA_SEND_MONEY</th>\n",
       "    </tr>\n",
       "  </thead>\n",
       "  <tbody>\n",
       "    <tr>\n",
       "      <th>5</th>\n",
       "      <td>Female</td>\n",
       "      <td>14800</td>\n",
       "      <td>True</td>\n",
       "    </tr>\n",
       "    <tr>\n",
       "      <th>12</th>\n",
       "      <td>Female</td>\n",
       "      <td>300</td>\n",
       "      <td>True</td>\n",
       "    </tr>\n",
       "    <tr>\n",
       "      <th>13</th>\n",
       "      <td>Female</td>\n",
       "      <td>3000</td>\n",
       "      <td>True</td>\n",
       "    </tr>\n",
       "    <tr>\n",
       "      <th>15</th>\n",
       "      <td>Male</td>\n",
       "      <td>1000</td>\n",
       "      <td>True</td>\n",
       "    </tr>\n",
       "    <tr>\n",
       "      <th>16</th>\n",
       "      <td>Male</td>\n",
       "      <td>19000</td>\n",
       "      <td>True</td>\n",
       "    </tr>\n",
       "    <tr>\n",
       "      <th>...</th>\n",
       "      <td>...</td>\n",
       "      <td>...</td>\n",
       "      <td>...</td>\n",
       "    </tr>\n",
       "    <tr>\n",
       "      <th>365</th>\n",
       "      <td>Male</td>\n",
       "      <td>250</td>\n",
       "      <td>True</td>\n",
       "    </tr>\n",
       "    <tr>\n",
       "      <th>367</th>\n",
       "      <td>Female</td>\n",
       "      <td>2000</td>\n",
       "      <td>True</td>\n",
       "    </tr>\n",
       "    <tr>\n",
       "      <th>368</th>\n",
       "      <td>Female</td>\n",
       "      <td>500</td>\n",
       "      <td>True</td>\n",
       "    </tr>\n",
       "    <tr>\n",
       "      <th>369</th>\n",
       "      <td>Male</td>\n",
       "      <td>400</td>\n",
       "      <td>True</td>\n",
       "    </tr>\n",
       "    <tr>\n",
       "      <th>371</th>\n",
       "      <td>Female</td>\n",
       "      <td>14000</td>\n",
       "      <td>True</td>\n",
       "    </tr>\n",
       "  </tbody>\n",
       "</table>\n",
       "<p>170 rows × 3 columns</p>\n",
       "</div>"
      ],
      "text/plain": [
       "    USER_GENDER  PURCHASE_VALUE  IS_PURCHASE_PAID_VIA_MPESA_SEND_MONEY\n",
       "5        Female           14800                                   True\n",
       "12       Female             300                                   True\n",
       "13       Female            3000                                   True\n",
       "15         Male            1000                                   True\n",
       "16         Male           19000                                   True\n",
       "..          ...             ...                                    ...\n",
       "365        Male             250                                   True\n",
       "367      Female            2000                                   True\n",
       "368      Female             500                                   True\n",
       "369        Male             400                                   True\n",
       "371      Female           14000                                   True\n",
       "\n",
       "[170 rows x 3 columns]"
      ]
     },
     "execution_count": 15,
     "metadata": {},
     "output_type": "execute_result"
    }
   ],
   "source": [
    "#PULL THE DATE TO BE USED FROM THE CSV \n",
    "# We need Average Purchase value between Males and Females\n",
    "# We need to filter the purchase values by including only those from MPESA Payment system\n",
    "\n",
    "#APPROACH STEP 1\n",
    "## Start By filtering Transections Made via MPESA\n",
    "\n",
    "mpesa_transections_df = money_df[money_df[\"IS_PURCHASE_PAID_VIA_MPESA_SEND_MONEY\"] == True]\n",
    "\n",
    "mpesa_transections_df[[\"USER_GENDER\",\"PURCHASE_VALUE\",\"IS_PURCHASE_PAID_VIA_MPESA_SEND_MONEY\"]]\n",
    "\n"
   ]
  },
  {
   "cell_type": "code",
   "execution_count": 17,
   "metadata": {},
   "outputs": [
    {
     "data": {
      "text/plain": [
       "USER_GENDER\n",
       "Female     612817\n",
       "Male      1031695\n",
       "Name: PURCHASE_VALUE, dtype: int64"
      ]
     },
     "execution_count": 17,
     "metadata": {},
     "output_type": "execute_result"
    }
   ],
   "source": [
    "#APPROACH STEP 2\n",
    "## Using a group function to group the USER_GENDER by PURCHASE_VALUE\n",
    "\n",
    "grouped_df = money_df.groupby(\"USER_GENDER\")[\"PURCHASE_VALUE\"].sum()\n",
    "grouped_df"
   ]
  },
  {
   "cell_type": "code",
   "execution_count": 30,
   "metadata": {},
   "outputs": [
    {
     "data": {
      "image/png": "[encoded data removed]",
      "text/plain": [
       "<Figure size 640x480 with 1 Axes>"
      ]
     },
     "metadata": {},
     "output_type": "display_data"
    }
   ],
   "source": [
    "# Plotting a bar chart\n",
    "grouped_df.plot(kind='bar', color='skyblue')\n",
    "plt.title('Total Purchase Value by User Gender from MPESA Money Sent')\n",
    "plt.xlabel('User Gender')\n",
    "plt.ylabel('Total Purchase Value')\n",
    "plt.xticks(rotation=0)  # Rotate x-axis labels if needed\n",
    "plt.show()"
   ]
  }
 ],
 "metadata": {
  "kernelspec": {
   "display_name": "Python 3",
   "language": "python",
   "name": "python3"
  },
  "language_info": {
   "codemirror_mode": {
    "name": "ipython",
    "version": 3
   },
   "file_extension": ".py",
   "mimetype": "text/x-python",
   "name": "python",
   "nbconvert_exporter": "python",
   "pygments_lexer": "ipython3",
   "version": "3.11.7"
  }
 },
 "nbformat": 4,
 "nbformat_minor": 2
}
