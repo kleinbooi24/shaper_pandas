{
 "cells": [
  {
   "cell_type": "markdown",
   "metadata": {},
   "source": [
    "PROBLEM 6: Compare the income (USER_INCOME) of males and females (USER_GENDER)"
   ]
  },
  {
   "cell_type": "code",
   "execution_count": 8,
   "metadata": {},
   "outputs": [
    {
     "data": {
      "text/html": [
       "<div>\n",
       "<style scoped>\n",
       "    .dataframe tbody tr th:only-of-type {\n",
       "        vertical-align: middle;\n",
       "    }\n",
       "\n",
       "    .dataframe tbody tr th {\n",
       "        vertical-align: top;\n",
       "    }\n",
       "\n",
       "    .dataframe thead th {\n",
       "        text-align: right;\n",
       "    }\n",
       "</style>\n",
       "<table border=\"1\" class=\"dataframe\">\n",
       "  <thead>\n",
       "    <tr style=\"text-align: right;\">\n",
       "      <th></th>\n",
       "      <th>MERCHANT_CATEGORIZED_AT</th>\n",
       "      <th>HOURS</th>\n",
       "      <th>MONTHS</th>\n",
       "      <th>MINUTES</th>\n",
       "      <th>YEAR</th>\n",
       "      <th>MERCHANT_NAME</th>\n",
       "      <th>MERCHANT_CATEGORIZED_AS</th>\n",
       "      <th>PURCHASE_VALUE</th>\n",
       "      <th>PURCHASED_AT</th>\n",
       "      <th>IS_PURCHASE_PAID_VIA_MPESA_SEND_MONEY</th>\n",
       "      <th>USER_AGE</th>\n",
       "      <th>USER_GENDER</th>\n",
       "      <th>USER_HOUSEHOLD</th>\n",
       "      <th>USER_INCOME</th>\n",
       "      <th>USER_ID</th>\n",
       "      <th>Transaction_ID</th>\n",
       "    </tr>\n",
       "  </thead>\n",
       "  <tbody>\n",
       "    <tr>\n",
       "      <th>0</th>\n",
       "      <td>2022-05-04 10:25:50.588042+00</td>\n",
       "      <td>10</td>\n",
       "      <td>5</td>\n",
       "      <td>25</td>\n",
       "      <td>2022</td>\n",
       "      <td>UONSDA CHURCH  MOGERE MWAYO TITHE</td>\n",
       "      <td>Rent / Mortgage</td>\n",
       "      <td>1700</td>\n",
       "      <td>2022-05-04 13:56:00+00</td>\n",
       "      <td>False</td>\n",
       "      <td>NaN</td>\n",
       "      <td>Male</td>\n",
       "      <td>3</td>\n",
       "      <td>10000</td>\n",
       "      <td>ID_ZX4DCF4K</td>\n",
       "      <td>ID_04mk78fa</td>\n",
       "    </tr>\n",
       "    <tr>\n",
       "      <th>1</th>\n",
       "      <td>2021-10-25 16:18:38.586837+00</td>\n",
       "      <td>16</td>\n",
       "      <td>10</td>\n",
       "      <td>18</td>\n",
       "      <td>2021</td>\n",
       "      <td>PARK N GO</td>\n",
       "      <td>Transport &amp; Fuel</td>\n",
       "      <td>100</td>\n",
       "      <td>2021-10-24 14:12:00+00</td>\n",
       "      <td>False</td>\n",
       "      <td>25.0</td>\n",
       "      <td>Female</td>\n",
       "      <td>4</td>\n",
       "      <td>90000</td>\n",
       "      <td>ID_U9WZMGJZ</td>\n",
       "      <td>ID_04xkfb07</td>\n",
       "    </tr>\n",
       "    <tr>\n",
       "      <th>2</th>\n",
       "      <td>2022-05-20 14:17:30.917297+00</td>\n",
       "      <td>14</td>\n",
       "      <td>5</td>\n",
       "      <td>17</td>\n",
       "      <td>2022</td>\n",
       "      <td>SAFARICOM OFFERS  TUNUKIWA</td>\n",
       "      <td>Data &amp; WiFi</td>\n",
       "      <td>20</td>\n",
       "      <td>2022-05-27 12:46:00+00</td>\n",
       "      <td>False</td>\n",
       "      <td>NaN</td>\n",
       "      <td>Male</td>\n",
       "      <td>3</td>\n",
       "      <td>10000</td>\n",
       "      <td>ID_ZX4DCF4K</td>\n",
       "      <td>ID_051urwuw</td>\n",
       "    </tr>\n",
       "  </tbody>\n",
       "</table>\n",
       "</div>"
      ],
      "text/plain": [
       "         MERCHANT_CATEGORIZED_AT  HOURS  MONTHS  MINUTES  YEAR  \\\n",
       "0  2022-05-04 10:25:50.588042+00     10       5       25  2022   \n",
       "1  2021-10-25 16:18:38.586837+00     16      10       18  2021   \n",
       "2  2022-05-20 14:17:30.917297+00     14       5       17  2022   \n",
       "\n",
       "                       MERCHANT_NAME MERCHANT_CATEGORIZED_AS  PURCHASE_VALUE  \\\n",
       "0  UONSDA CHURCH  MOGERE MWAYO TITHE         Rent / Mortgage            1700   \n",
       "1                          PARK N GO        Transport & Fuel             100   \n",
       "2         SAFARICOM OFFERS  TUNUKIWA             Data & WiFi              20   \n",
       "\n",
       "             PURCHASED_AT  IS_PURCHASE_PAID_VIA_MPESA_SEND_MONEY  USER_AGE  \\\n",
       "0  2022-05-04 13:56:00+00                                  False       NaN   \n",
       "1  2021-10-24 14:12:00+00                                  False      25.0   \n",
       "2  2022-05-27 12:46:00+00                                  False       NaN   \n",
       "\n",
       "  USER_GENDER  USER_HOUSEHOLD  USER_INCOME      USER_ID Transaction_ID  \n",
       "0        Male               3        10000  ID_ZX4DCF4K    ID_04mk78fa  \n",
       "1      Female               4        90000  ID_U9WZMGJZ    ID_04xkfb07  \n",
       "2        Male               3        10000  ID_ZX4DCF4K    ID_051urwuw  "
      ]
     },
     "execution_count": 8,
     "metadata": {},
     "output_type": "execute_result"
    }
   ],
   "source": [
    "#IMPORT THE IMPORTANT LIBRARIES\n",
    "\n",
    "import pandas as pd\n",
    "import matplotlib.pyplot as plt\n",
    "\n",
    "#IMPORT THE DATAFRAME\n",
    "\n",
    "money_df = pd.read_csv(\"Money.csv\")\n",
    "\n",
    "money_df.head(3)"
   ]
  },
  {
   "cell_type": "code",
   "execution_count": 3,
   "metadata": {},
   "outputs": [
    {
     "data": {
      "text/plain": [
       "USER_GENDER\n",
       "Female    16368000\n",
       "Male      38118000\n",
       "Name: USER_INCOME, dtype: int64"
      ]
     },
     "execution_count": 3,
     "metadata": {},
     "output_type": "execute_result"
    }
   ],
   "source": [
    "# PULL THE DATA TO BE USED\n",
    "# We want to compare the income of males vs females\n",
    "\n",
    "#APPROACH: use groupby() function to group the USER_GENDER by USER_INCOME\n",
    "\n",
    "grouped_df = money_df.groupby(\"USER_GENDER\")[\"USER_INCOME\"].sum()\n",
    "\n",
    "#Print all the requred colums\n",
    "grouped_df"
   ]
  },
  {
   "cell_type": "code",
   "execution_count": 11,
   "metadata": {},
   "outputs": [
    {
     "data": {
      "text/plain": [
       "Text(0.5, 1.0, 'Female vs Male Income')"
      ]
     },
     "execution_count": 11,
     "metadata": {},
     "output_type": "execute_result"
    },
    {
     "data": {
      "image/png": "[encoded data removed]",
      "text/plain": [
       "<Figure size 640x480 with 1 Axes>"
      ]
     },
     "metadata": {},
     "output_type": "display_data"
    }
   ],
   "source": [
    "# Draw a bar chart\n",
    "\n",
    "grouped_df.plot(kind = \"bar\", color = \"skyblue\")\n",
    "plt.ylabel(\"Income in Rands\")\n",
    "plt.xlabel(\"Gender\")\n",
    "plt.title(\"Female vs Male Income\")"
   ]
  }
 ],
 "metadata": {
  "kernelspec": {
   "display_name": "Python 3",
   "language": "python",
   "name": "python3"
  },
  "language_info": {
   "codemirror_mode": {
    "name": "ipython",
    "version": 3
   },
   "file_extension": ".py",
   "mimetype": "text/x-python",
   "name": "python",
   "nbconvert_exporter": "python",
   "pygments_lexer": "ipython3",
   "version": "3.11.4"
  }
 },
 "nbformat": 4,
 "nbformat_minor": 2
}
